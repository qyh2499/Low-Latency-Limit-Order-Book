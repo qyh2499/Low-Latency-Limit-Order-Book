{
 "cells": [
  {
   "cell_type": "code",
   "execution_count": 1,
   "metadata": {},
   "outputs": [],
   "source": [
    "import pandas as pd\n",
    "import matplotlib.pyplot as plt\n",
    "from mpl_toolkits.mplot3d import Axes3D"
   ]
  },
  {
   "cell_type": "code",
   "execution_count": 16,
   "metadata": {},
   "outputs": [],
   "source": [
    "def order_type_distribution(df):\n",
    "    order_type = df['type']\n",
    "\n",
    "    # PIE chart\n",
    "    type_flatten = order_type.value_counts()[::-1]\n",
    "    plt.figure(figsize=(5, 5))\n",
    "    plt.pie(type_flatten, labels=type_flatten.index, autopct='%1.1f%%', colors=plt.cm.tab20.colors)\n",
    "    plt.title('Order Type distribution')\n",
    "    plt.savefig('./Type Frequency.png')\n",
    "    plt.close()\n",
    "\n",
    "def latency_histogram(df):\n",
    "    nanosecond = df['nanoseconds']\n",
    "    average_time = nanosecond.mean()\n",
    "\n",
    "    # Histogram\n",
    "    cut = nanosecond[nanosecond <= nanosecond.quantile(q=0.99)]\n",
    "    plt.figure(figsize=(10, 6))\n",
    "    plt.hist(cut, bins=30, color='skyblue', edgecolor='black')\n",
    "    plt.title(f'Histogram of Latency - mean ={average_time:.1f}ns at ({1e9/average_time:,.0f} orders/s)')\n",
    "    plt.xlabel('Latency (ns)')\n",
    "    plt.ylabel('Number of Orders')\n",
    "    plt.savefig('./Latency Histogram.png')\n",
    "    plt.close()\n",
    "    \n",
    "def order_type_latency(df):\n",
    "    # Calculate stats\n",
    "    stats = df.groupby('type')['nanoseconds'].agg(['mean', lambda x: x.quantile(0.15), lambda x: x.quantile(0.85)]).reset_index()\n",
    "    stats.columns = ['type', 'mean', '25per', '75per']\n",
    "    stats['l'] = stats['mean'] - stats['25per']\n",
    "    stats['u'] = stats['75per'] - stats['mean']\n",
    "    stats = stats.sort_values(by='mean')\n",
    "\n",
    "    # Create box and whisker\n",
    "    plt.figure(figsize=(12, 6))\n",
    "    plt.bar(stats['type'], stats['mean'], yerr=[stats['l'], stats['u']], capsize=5, color='skyblue', edgecolor='black')\n",
    "    plt.title('Latency by Order Type')\n",
    "    plt.xlabel('Type')\n",
    "    plt.ylabel('Latency (ns)')\n",
    "    plt.xticks(rotation=45)\n",
    "    plt.savefig('./Order Type Latency.png', bbox_inches='tight')\n",
    "    plt.close()"
   ]
  },
  {
   "cell_type": "code",
   "execution_count": 17,
   "metadata": {},
   "outputs": [],
   "source": [
    "\n",
    "input_file = '../data/performance.txt'\n",
    "df = pd.read_csv(input_file, header=None, names=['type', 'nanoseconds', 'executed order count', 'AVL balance count'])\n",
    "order_type_distribution(df)\n",
    "latency_histogram(df)\n",
    "order_type_latency(df)"
   ]
  },
  {
   "cell_type": "code",
   "execution_count": null,
   "metadata": {},
   "outputs": [],
   "source": []
  }
 ],
 "metadata": {
  "kernelspec": {
   "display_name": "private-tester",
   "language": "python",
   "name": "python3"
  },
  "language_info": {
   "codemirror_mode": {
    "name": "ipython",
    "version": 3
   },
   "file_extension": ".py",
   "mimetype": "text/x-python",
   "name": "python",
   "nbconvert_exporter": "python",
   "pygments_lexer": "ipython3",
   "version": "3.11.5"
  }
 },
 "nbformat": 4,
 "nbformat_minor": 2
}
